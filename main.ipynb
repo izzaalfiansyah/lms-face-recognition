{
 "cells": [
  {
   "cell_type": "code",
   "execution_count": 1,
   "id": "7a1111d1",
   "metadata": {},
   "outputs": [],
   "source": [
    "from deepface import DeepFace"
   ]
  },
  {
   "cell_type": "code",
   "execution_count": null,
   "id": "b2c352cd",
   "metadata": {},
   "outputs": [
    {
     "name": "stdout",
     "output_type": "stream",
     "text": [
      "25-08-27 17:40:56 - Searching assets/gibran.jpg in 5 length datastore\n",
      "25-08-27 17:40:57 - find function duration 1.4882190227508545 seconds\n",
      "[               identity                                      hash  target_x  \\\n",
      "0  assets/faces/1/1.jpg  46f557eeb0f2217c36897cb013a4fa9e23f70296       441   \n",
      "1  assets/faces/1/1.jpg  46f557eeb0f2217c36897cb013a4fa9e23f70296       181   \n",
      "\n",
      "   target_y  target_w  target_h  threshold  source_x  source_y  source_w  \\\n",
      "0        89       427       427        0.4       441        89       427   \n",
      "1       358        90        90        0.4       441        89       427   \n",
      "\n",
      "   source_h  distance  confidence  \n",
      "0       427  0.078172      100.00  \n",
      "1       427  0.243563       74.92  ,                identity                                      hash  target_x  \\\n",
      "0  assets/faces/1/1.jpg  46f557eeb0f2217c36897cb013a4fa9e23f70296       936   \n",
      "1  assets/faces/1/1.jpg  46f557eeb0f2217c36897cb013a4fa9e23f70296       181   \n",
      "\n",
      "   target_y  target_w  target_h  threshold  source_x  source_y  source_w  \\\n",
      "0       382        68        68        0.4       936       382        68   \n",
      "1       358        90        90        0.4       936       382        68   \n",
      "\n",
      "   source_h  distance  confidence  \n",
      "0        68  0.061637       100.0  \n",
      "1        68  0.368675        51.8  ,                identity                                      hash  target_x  \\\n",
      "0  assets/faces/1/1.jpg  46f557eeb0f2217c36897cb013a4fa9e23f70296       348   \n",
      "\n",
      "   target_y  target_w  target_h  threshold  source_x  source_y  source_w  \\\n",
      "0       389       108       108        0.4       348       389       108   \n",
      "\n",
      "   source_h  distance  confidence  \n",
      "0       108  0.108514       96.88  ,                identity                                      hash  target_x  \\\n",
      "0  assets/faces/1/1.jpg  46f557eeb0f2217c36897cb013a4fa9e23f70296       441   \n",
      "1  assets/faces/1/1.jpg  46f557eeb0f2217c36897cb013a4fa9e23f70296       181   \n",
      "\n",
      "   target_y  target_w  target_h  threshold  source_x  source_y  source_w  \\\n",
      "0        89       427       427        0.4       181       358        90   \n",
      "1       358        90        90        0.4       181       358        90   \n",
      "\n",
      "   source_h  distance  confidence  \n",
      "0        90  0.184842       85.14  \n",
      "1        90  0.185548       85.02  ]\n"
     ]
    }
   ],
   "source": [
    "results = DeepFace.find(img_path=\"assets/gibran.jpg\", db_path=\"assets/faces/1\", model_name=\"Facenet\")\n",
    "\n",
    "print(results)"
   ]
  },
  {
   "cell_type": "code",
   "execution_count": null,
   "id": "c7fdf040",
   "metadata": {},
   "outputs": [
    {
     "name": "stdout",
     "output_type": "stream",
     "text": [
      "               identity                                      hash  target_x  \\\n",
      "0  assets/faces/1/1.jpg  46f557eeb0f2217c36897cb013a4fa9e23f70296       441   \n",
      "1  assets/faces/1/1.jpg  46f557eeb0f2217c36897cb013a4fa9e23f70296       181   \n",
      "\n",
      "   target_y  target_w  target_h  threshold  source_x  source_y  source_w  \\\n",
      "0        89       427       427        0.4       441        89       427   \n",
      "1       358        90        90        0.4       441        89       427   \n",
      "\n",
      "   source_h  distance  confidence  \n",
      "0       427  0.078172      100.00  \n",
      "1       427  0.243563       74.92  \n"
     ]
    }
   ],
   "source": [
    "result = results[0]\n",
    "\n",
    "distance = result[\"distance\"].mean()\n",
    "confidence = result[\"confidence\"].mean()\n",
    "\n",
    "print(f\"Distance: {distance}\")\n",
    "print(f\"Confidence: {confidence}\")"
   ]
  }
 ],
 "metadata": {
  "kernelspec": {
   "display_name": "venv (3.12.10)",
   "language": "python",
   "name": "python3"
  },
  "language_info": {
   "codemirror_mode": {
    "name": "ipython",
    "version": 3
   },
   "file_extension": ".py",
   "mimetype": "text/x-python",
   "name": "python",
   "nbconvert_exporter": "python",
   "pygments_lexer": "ipython3",
   "version": "3.12.10"
  }
 },
 "nbformat": 4,
 "nbformat_minor": 5
}
